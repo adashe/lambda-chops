{
 "cells": [
  {
   "cell_type": "markdown",
   "metadata": {},
   "source": [
    "LAMBDA CHOPS\n",
    "\n",
    "What is a lambda function?\n",
    "\n",
    "- lambda functions are short, unnamed functions\n",
    "\n",
    "- the basic structure of a lambda function is: \n",
    "\n",
    "        lambda arguments: expression\n",
    "\n",
    "\n",
    "- for example: \n",
    "    \n",
    "        lambda x: print(x)\n",
    "        \n",
    "\n",
    "- a lambda function can have any number of arguments but only one expression\n",
    "\n",
    "Why would I use a lambda function?\n",
    "\n",
    "- lambda functions are helpful in:\n",
    "    - creating lists\n",
    "    - making transformations to a data set\n",
    "    - filtering a data set\n",
    "    - other things\n",
    "\n",
    "\n",
    "Use judiciously!\n",
    "\n",
    "- regular def functions are overall more powerful and useful than lambda functions\n",
    "\n",
    "- lambda functions shine when you want simplicity\n"
   ]
  },
  {
   "cell_type": "markdown",
   "metadata": {},
   "source": [
    "EXAMPLES"
   ]
  },
  {
   "cell_type": "code",
   "execution_count": null,
   "metadata": {},
   "outputs": [],
   "source": [
    "# lambda with print statement\n",
    "# lambda not assigned to variable\n",
    "\n",
    "x = 'Hello Hackbright!'\n",
    "\n",
    "(lambda x: print(x))(x)"
   ]
  },
  {
   "cell_type": "code",
   "execution_count": null,
   "metadata": {},
   "outputs": [],
   "source": [
    "# lambda assigned to variable\n",
    "\n",
    "num = 5\n",
    "\n",
    "add_one = lambda x: x + 1\n",
    "\n",
    "add_one(num)"
   ]
  },
  {
   "cell_type": "code",
   "execution_count": null,
   "metadata": {},
   "outputs": [],
   "source": [
    "# comparison of def function with lambda function\n",
    "\n",
    "# lambda does not need a return statement\n",
    "\n",
    "def cube(y):\n",
    "    return y*y*y\n",
    " \n",
    "lambda_cube = lambda y: y*y*y\n",
    "\n",
    "print(cube(3))\n",
    "\n",
    "print(lambda_cube(5))\n",
    "\n",
    "# example of same lambda function without variable name assignment\n",
    "\n",
    "print((lambda y: y*y*y)(7))"
   ]
  },
  {
   "cell_type": "code",
   "execution_count": null,
   "metadata": {},
   "outputs": [],
   "source": [
    "# using lambda to create a list of numbers\n",
    "\n",
    "tables = [lambda x=x: x*10 for x in range(1, 11, 2)]\n",
    " \n",
    "for table in tables:\n",
    "    print(table())"
   ]
  },
  {
   "cell_type": "code",
   "execution_count": null,
   "metadata": {},
   "outputs": [],
   "source": [
    "# lambda using if-else statements\n",
    "\n",
    "# lambda <arguments> : <statement1> if <condition> else <statement2>\n",
    "\n",
    "greater_value = lambda a, b : a if(a > b) else b\n",
    "\n",
    "print(greater_value(3, 5))"
   ]
  },
  {
   "cell_type": "code",
   "execution_count": null,
   "metadata": {},
   "outputs": [],
   "source": [
    "longest_word = lambda a, b : a if (len(a) > len(b)) else b\n",
    "\n",
    "print(longest_word('Charlie Horse', \"Lamb Chop\"))"
   ]
  },
  {
   "cell_type": "code",
   "execution_count": null,
   "metadata": {},
   "outputs": [],
   "source": [
    "# lambda with map() to create a new transformed list\n",
    "# map() takes two arguments: \n",
    "# a function (in this case, the lambda function) to be run on each item, \n",
    "# and the iterable\n",
    "\n",
    "yelling_puppets = ['LAMB CHOP', 'CHARLIE HORSE', 'HUSH PUPPY']\n",
    "\n",
    "shushed_puppets = list(map(lambda puppet: str.lower(puppet), yelling_puppets))\n",
    "\n",
    "print(shushed_puppets)\n"
   ]
  },
  {
   "cell_type": "code",
   "execution_count": 1,
   "metadata": {},
   "outputs": [
    {
     "name": "stdout",
     "output_type": "stream",
     "text": [
      "['this', 'song', 'that', 'does']\n"
     ]
    }
   ],
   "source": [
    "# lambda with filter() to create a new filtered list\n",
    "# filter() takes two arguments: \n",
    "# a function (in this case, the lambda function) to be run on each item that selects the desired items, \n",
    "# and the iterable\n",
    "\n",
    "song = ['this', 'is', 'the', 'song', 'that', 'does', 'not', 'end']\n",
    " \n",
    "new_song = list(filter(lambda x: (len(x) == 4) , song))\n",
    "\n",
    "print(new_song)"
   ]
  },
  {
   "cell_type": "code",
   "execution_count": null,
   "metadata": {},
   "outputs": [],
   "source": [
    "# lambda to create a new repeated list\n",
    "\n",
    "song = ['this is the song that does not end', \n",
    "    'yes it goes on and on my friends', \n",
    "    'some people started singing it not knowing what it was', \n",
    "    'and they\\'ll continue singing it forever just because']\n",
    "\n",
    "repeat_song = lambda x: print(x*10)\n",
    "\n",
    "repeat_song(song)"
   ]
  },
  {
   "cell_type": "markdown",
   "metadata": {},
   "source": [
    "HELPFUL SOURCES\n",
    "\n",
    "\"Python Lambda Functions\" https://www.geeksforgeeks.org/python-lambda-anonymous-functions-filter-map-reduce/\n",
    "\n",
    "\"Python LAMBDA Functions Explained\" by Joe James https://www.youtube.com/watch?v=Ob9rY6PQMfI\n",
    "\n",
    "\n",
    "\n",
    "\n"
   ]
  }
 ],
 "metadata": {
  "interpreter": {
   "hash": "31f2aee4e71d21fbe5cf8b01ff0e069b9275f58929596ceb00d14d90e3e16cd6"
  },
  "kernelspec": {
   "display_name": "Python 3.8.10 64-bit",
   "language": "python",
   "name": "python3"
  },
  "language_info": {
   "codemirror_mode": {
    "name": "ipython",
    "version": 3
   },
   "file_extension": ".py",
   "mimetype": "text/x-python",
   "name": "python",
   "nbconvert_exporter": "python",
   "pygments_lexer": "ipython3",
   "version": "3.8.10"
  },
  "orig_nbformat": 4
 },
 "nbformat": 4,
 "nbformat_minor": 2
}
